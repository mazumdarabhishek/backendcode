{
 "cells": [
  {
   "cell_type": "code",
   "execution_count": 9,
   "id": "a3bc7ed5",
   "metadata": {},
   "outputs": [],
   "source": [
    "import mysql.connector\n",
    "from datetime import datetime"
   ]
  },
  {
   "cell_type": "code",
   "execution_count": 50,
   "id": "65d035f0",
   "metadata": {},
   "outputs": [
    {
     "name": "stdout",
     "output_type": "stream",
     "text": [
      "Connection established with ID::346\n"
     ]
    }
   ],
   "source": [
    "connection = mysql.connector.connect(host='localhost',\n",
    "                                     port=3306,\n",
    "                                     database='foodapp',\n",
    "                                     user='root',\n",
    "                                     password='')\n",
    "if connection.connection_id:\n",
    "    print(f\"Connection established with ID::{connection.connection_id}\")\n",
    "else:\n",
    "    print(\"Connection not established\")"
   ]
  },
  {
   "cell_type": "markdown",
   "id": "ef554e6e",
   "metadata": {},
   "source": [
    "## Fields in restaurant_registration table \n",
    "1. id (auto increment)\n",
    "2. restaurantname\n",
    "3. fssailicno\n",
    "4. gstin\n",
    "5. cgst\n",
    "6. sgst\n",
    "7. restaurantphone\n",
    "8. restaurantemail\n",
    "9. restaurantaddress\n",
    "10. restaurantmembershipstatus\n",
    "11. registrationdate"
   ]
  },
  {
   "cell_type": "code",
   "execution_count": 51,
   "id": "1d97d2e6",
   "metadata": {},
   "outputs": [],
   "source": [
    "now = datetime.now()\n",
    "now = now.strftime(\"%Y-%m-%d %H:%M:%S\")"
   ]
  },
  {
   "cell_type": "code",
   "execution_count": 56,
   "id": "269d19cc",
   "metadata": {},
   "outputs": [],
   "source": [
    "\n",
    "INSERT_QUERY = (\"INSERT INTO foodapp.resturant_registration\"\n",
    "            \"(restaurantname,fssailicno,gstin,cgst,sgst,restaurantphone,restaurantemail,restaurantaddress,restaurantmembershipstatus,registrationdate)\" \n",
    "                \"VALUES(%s,%s,%s,%s,%s,%s,%s,%s,%s,%s)\")\n",
    "data = (\"green\",'1234ABC','112233qwe' ,'0.05','0.05','1234567890','yello@mailcom','''Lane-4 Patia''','Active',now)\n"
   ]
  },
  {
   "cell_type": "code",
   "execution_count": 57,
   "id": "b58c9923",
   "metadata": {},
   "outputs": [],
   "source": [
    "cursor = connection.cursor()\n",
    "cursor.execute(INSERT_QUERY,data)\n",
    "connection.commit()"
   ]
  },
  {
   "cell_type": "code",
   "execution_count": null,
   "id": "83a55d9d",
   "metadata": {},
   "outputs": [],
   "source": [
    "to_update = {\"restaurantname\":\"rainbow\",\"cgst\":\"0.15\",\"sgst\":\"0.15\"}\n",
    "UPDATE_QUERY = \"UPDATE foodapp.resturant_registration SET %s = %s WHERE id = %s \"\n"
   ]
  },
  {
   "cell_type": "code",
   "execution_count": 59,
   "id": "a2c7f911",
   "metadata": {},
   "outputs": [
    {
     "name": "stdout",
     "output_type": "stream",
     "text": [
      "(4, 'yellow')\n",
      "(5, 'blue')\n",
      "(6, 'green')\n"
     ]
    }
   ],
   "source": [
    "FETCH_QUERY = \"SELECT id,restaurantname FROM foodapp.resturant_registration \"\n",
    "cursor.execute(FETCH_QUERY)\n",
    "for data in cursor.fetchall():\n",
    "    print(data)"
   ]
  },
  {
   "cell_type": "code",
   "execution_count": 62,
   "id": "2e2018d7",
   "metadata": {},
   "outputs": [],
   "source": [
    "# first get the ID and restaurant name in all the records\n",
    "FETCH_QUERY = \"SELECT id,restaurantname FROM foodapp.resturant_registration \"\n",
    "cursor.execute(FETCH_QUERY)\n",
    "records = cursor.fetchall() # returns a list of tuples"
   ]
  },
  {
   "cell_type": "code",
   "execution_count": null,
   "id": "3f676a77",
   "metadata": {},
   "outputs": [],
   "source": [
    "# retrve the ID with regards to a current name \n"
   ]
  },
  {
   "cell_type": "code",
   "execution_count": 83,
   "id": "d0c46b79",
   "metadata": {},
   "outputs": [],
   "source": [
    "def update_record(id_,data_dict):\n",
    "    #get the current record for restaurant using info in for_\n",
    "#     FETCH_QUERY = \"SELECT id,restaurantname FROM foodapp.resturant_registration WHERE id = %s \"\n",
    "#     cursor.execute(FETCH_QUERY,(id_,))\n",
    "#     data = cursor.fetchone()\n",
    "#     print(data)\n",
    "    \n",
    "    for column in data_dict.keys():\n",
    "        UPDATE_QUERY = \"UPDATE foodapp.resturant_registration SET %s = %s WHERE id = %s \"%(column,data_dict[column],id_)\n",
    "        cursor.execute(UPDATE_QUERY)\n",
    "        connection.commit()\n",
    "        "
   ]
  },
  {
   "cell_type": "code",
   "execution_count": 87,
   "id": "8142152d",
   "metadata": {},
   "outputs": [
    {
     "data": {
      "text/plain": [
       "'[[4, \"yellow\", \"1234ABC\", \"112233qwe\", \"0.05\", \"0.05\", \"1234567890\", \"yello@mailcom\", \"Lane-4 Patia\", \"Active\"], [5, \"blue\", \"1234ABC\", \"112233qwe\", \"0.15\", \"0.15\", \"1234567890\", \"yello@mailcom\", \"Lane-4 Patia\", \"Active\"], [6, \"green\", \"1234ABC\", \"112233qwe\", \"0.05\", \"0.05\", \"1234567890\", \"yello@mailcom\", \"Lane-4 Patia\", \"Active\"]]'"
      ]
     },
     "execution_count": 87,
     "metadata": {},
     "output_type": "execute_result"
    }
   ],
   "source": [
    "import json\n",
    "x ='0.15', '0.15', '1234567890', 'yello@mailcom', 'Lane-4 Patia', 'Active'), (6, 'green', '1234ABC', '112233qwe', '0.05', '0.05', '1234567890', 'yello@mailcom', 'Lane-4 Patia', 'Active')]\n",
    "json.dumps(x)"
   ]
  },
  {
   "cell_type": "code",
   "execution_count": 91,
   "id": "a85cf5a1",
   "metadata": {},
   "outputs": [],
   "source": [
    "#x =[(4, 'yellow', '1234ABC', '112233qwe', '0.05', '0.05', '1234567890', 'yello@mailcom', 'Lane-4 Patia', 'Active', datetime.datetime(2022, 8, 5, 18, 36, 4)), (5, 'blue', '1234ABC', '112233qwe', '0.15', '0.15', '1234567890', 'yello@mailcom', 'Lane-4 Patia', 'Active', datetime.datetime(2022, 8, 5, 18, 36, 4)), (6, 'green', '1234ABC', '112233qwe', '0.05', '0.05', '1234567890', 'yello@mailcom', 'Lane-4 Patia', 'Active', datetime.datetime(2022, 8, 5, 18, 36, 4))]\n",
    "payload = []\n",
    "for t in data:\n",
    "    temp = dict()\n",
    "    temp['id'] = t[0]\n",
    "    temp['restaurantname'] = t[1]\n",
    "    temp['fssailicno'] = t[2]\n",
    "    temp['gstin'] = t[3]\n",
    "    temp['cgst'] = t[4]\n",
    "    temp['sgst'] = t[5]\n",
    "    temp['restaurantphone'] = t[6]\n",
    "    temp['restaurantemail'] = t[7]\n",
    "    temp['restaurantaddress'] = t[8]\n",
    "    temp['restaurantmembershipstatus'] = t[9]\n",
    "    temp['registrationdate'] = t[10]\n",
    "    payload.append(temp)"
   ]
  },
  {
   "cell_type": "markdown",
   "id": "1e053030",
   "metadata": {},
   "source": [
    "## Order DB Operations \n",
    "\n",
    "Database Schema:\n",
    "1. orderid\n",
    "2. type\n",
    "3. ordertime\n",
    "4. itemname\n",
    "5. unitprice\n",
    "6. quantity\n",
    "7. totalprice\n",
    "8. orderstatus\n",
    "9. clientname\n",
    "10. clientphone\n",
    "11. clientaddress\n",
    "12. itemid\n",
    "13. itemsize\n"
   ]
  },
  {
   "cell_type": "code",
   "execution_count": 2,
   "id": "07441a21",
   "metadata": {},
   "outputs": [],
   "source": [
    "import mysql.connector\n",
    "from datetime import datetime"
   ]
  },
  {
   "cell_type": "code",
   "execution_count": 3,
   "id": "4b74b230",
   "metadata": {},
   "outputs": [
    {
     "name": "stdout",
     "output_type": "stream",
     "text": [
      "Connection established with ID::277\n"
     ]
    }
   ],
   "source": [
    "connection = mysql.connector.connect(host='localhost',\n",
    "                                     port=3306,\n",
    "                                     database='foodapp',\n",
    "                                     user='root',\n",
    "                                     password='')\n",
    "if connection.connection_id:\n",
    "    print(f\"Connection established with ID::{connection.connection_id}\")\n",
    "else:\n",
    "    print(\"Connection not established\")"
   ]
  },
  {
   "cell_type": "code",
   "execution_count": 24,
   "id": "b13a3a09",
   "metadata": {},
   "outputs": [],
   "source": [
    "input_payload = {\"orderid\": \"1200dhsafsdkjhf\",\n",
    "                 \"type\": \"takeaway\",\n",
    "                 \"ordertime\": \"22-08-2022 08:35:00\",\n",
    "                 \"itemname\": \"burger\",\n",
    "                 \"unitprice\": \"120.00\",\n",
    "                 \"quantity\": \"2\",\n",
    "                 \"totalprice\": \"240\",\n",
    "                 \"orderstatus\": \"Order placed\",\n",
    "                 \"clientname\": \"abc\",\n",
    "                 \"clientphone\": \"1234567890\",\n",
    "                 \"clientaddress\": \"E/200 CDA Sector-7 cuttack 753014\",\n",
    "                 \"itemid\": \"9\",\n",
    "                 \"itemsize\": \"small\"\n",
    "\n",
    "                }"
   ]
  },
  {
   "cell_type": "code",
   "execution_count": 8,
   "id": "ca4e719c",
   "metadata": {},
   "outputs": [
    {
     "data": {
      "text/plain": [
       "dict_keys(['orderid', 'type', 'ordertime', 'itemname', 'unitprice', 'quantity', 'totalprice', 'orderstatus', 'clientname', 'clientphone', 'clientaddress', 'itemid', 'itemsize'])"
      ]
     },
     "execution_count": 8,
     "metadata": {},
     "output_type": "execute_result"
    }
   ],
   "source": [
    "input_payload.keys()"
   ]
  },
  {
   "cell_type": "code",
   "execution_count": 25,
   "id": "b700908c",
   "metadata": {},
   "outputs": [],
   "source": [
    "INSERT_QUERY = (\"INSERT INTO foodapp.order_database\"\n",
    "               \"(orderid, type, ordertime, itemname, unitprice, quantity, totalprice, orderstatus, clientname, clientphone, clientaddress, itemid, itemsize)\"\n",
    "               \"VALUES(%s,%s,%s,%s,%s,%s,%s,%s,%s,%s,%s,%s,%s)\")"
   ]
  },
  {
   "cell_type": "code",
   "execution_count": 12,
   "id": "0b1fdc97",
   "metadata": {
    "collapsed": true
   },
   "outputs": [
    {
     "data": {
      "text/plain": [
       "['1200dhsa-fsdkjhf',\n",
       " 'takeaway',\n",
       " '22-08-2022 08:35:00',\n",
       " 'chilly chicken',\n",
       " '120.00',\n",
       " '2',\n",
       " '240',\n",
       " 'Order placed',\n",
       " 'abc',\n",
       " '1234567890',\n",
       " 'E/200 CDA Sector-7 cuttack 753014',\n",
       " '6',\n",
       " 'small']"
      ]
     },
     "execution_count": 12,
     "metadata": {},
     "output_type": "execute_result"
    }
   ],
   "source": [
    "list(input_payload.values())"
   ]
  },
  {
   "cell_type": "code",
   "execution_count": 26,
   "id": "b86b752e",
   "metadata": {},
   "outputs": [],
   "source": [
    "cur = connection.cursor()\n",
    "\n",
    "cur.execute(INSERT_QUERY,list(input_payload.values()))"
   ]
  },
  {
   "cell_type": "code",
   "execution_count": 27,
   "id": "16dffd71",
   "metadata": {},
   "outputs": [],
   "source": [
    "connection.commit()"
   ]
  },
  {
   "cell_type": "code",
   "execution_count": 31,
   "id": "006dbfec",
   "metadata": {},
   "outputs": [],
   "source": [
    "UPDATE_QUERY = \"UPDATE foodapp.order_database SET %s = %s WHERE orderid = '%s' \" % (\"clientphone\",input_payload[\"clientphone\"],\"1200dhsa-fsdkjhf\") "
   ]
  },
  {
   "cell_type": "code",
   "execution_count": 32,
   "id": "49dcf19a",
   "metadata": {},
   "outputs": [
    {
     "data": {
      "text/plain": [
       "\"UPDATE foodapp.order_database SET clientphone = 1234567890 WHERE orderid = '1200dhsa-fsdkjhf' \""
      ]
     },
     "execution_count": 32,
     "metadata": {},
     "output_type": "execute_result"
    }
   ],
   "source": [
    "UPDATE_QUERY"
   ]
  },
  {
   "cell_type": "code",
   "execution_count": 33,
   "id": "d554bca7",
   "metadata": {},
   "outputs": [
    {
     "ename": "DataError",
     "evalue": "1241 (21000): Operand should contain 1 column(s)",
     "output_type": "error",
     "traceback": [
      "\u001b[1;31m---------------------------------------------------------------------------\u001b[0m",
      "\u001b[1;31mMySQLInterfaceError\u001b[0m                       Traceback (most recent call last)",
      "File \u001b[1;32m~\\anaconda3\\envs\\restapi\\lib\\site-packages\\mysql\\connector\\connection_cext.py:555\u001b[0m, in \u001b[0;36mCMySQLConnection.cmd_query\u001b[1;34m(self, query, raw, buffered, raw_as_string)\u001b[0m\n\u001b[0;32m    554\u001b[0m         query \u001b[38;5;241m=\u001b[39m query\u001b[38;5;241m.\u001b[39mencode(\u001b[38;5;124m\"\u001b[39m\u001b[38;5;124mutf-8\u001b[39m\u001b[38;5;124m\"\u001b[39m)\n\u001b[1;32m--> 555\u001b[0m     \u001b[38;5;28;43mself\u001b[39;49m\u001b[38;5;241;43m.\u001b[39;49m\u001b[43m_cmysql\u001b[49m\u001b[38;5;241;43m.\u001b[39;49m\u001b[43mquery\u001b[49m\u001b[43m(\u001b[49m\n\u001b[0;32m    556\u001b[0m \u001b[43m        \u001b[49m\u001b[43mquery\u001b[49m\u001b[43m,\u001b[49m\n\u001b[0;32m    557\u001b[0m \u001b[43m        \u001b[49m\u001b[43mraw\u001b[49m\u001b[38;5;241;43m=\u001b[39;49m\u001b[43mraw\u001b[49m\u001b[43m,\u001b[49m\n\u001b[0;32m    558\u001b[0m \u001b[43m        \u001b[49m\u001b[43mbuffered\u001b[49m\u001b[38;5;241;43m=\u001b[39;49m\u001b[43mbuffered\u001b[49m\u001b[43m,\u001b[49m\n\u001b[0;32m    559\u001b[0m \u001b[43m        \u001b[49m\u001b[43mraw_as_string\u001b[49m\u001b[38;5;241;43m=\u001b[39;49m\u001b[43mraw_as_string\u001b[49m\u001b[43m,\u001b[49m\n\u001b[0;32m    560\u001b[0m \u001b[43m        \u001b[49m\u001b[43mquery_attrs\u001b[49m\u001b[38;5;241;43m=\u001b[39;49m\u001b[38;5;28;43mself\u001b[39;49m\u001b[38;5;241;43m.\u001b[39;49m\u001b[43m_query_attrs\u001b[49m\u001b[43m,\u001b[49m\n\u001b[0;32m    561\u001b[0m \u001b[43m    \u001b[49m\u001b[43m)\u001b[49m\n\u001b[0;32m    562\u001b[0m \u001b[38;5;28;01mexcept\u001b[39;00m MySQLInterfaceError \u001b[38;5;28;01mas\u001b[39;00m err:\n",
      "\u001b[1;31mMySQLInterfaceError\u001b[0m: Operand should contain 1 column(s)",
      "\nThe above exception was the direct cause of the following exception:\n",
      "\u001b[1;31mDataError\u001b[0m                                 Traceback (most recent call last)",
      "Input \u001b[1;32mIn [33]\u001b[0m, in \u001b[0;36m<cell line: 1>\u001b[1;34m()\u001b[0m\n\u001b[1;32m----> 1\u001b[0m \u001b[43mcur\u001b[49m\u001b[38;5;241;43m.\u001b[39;49m\u001b[43mexecute\u001b[49m\u001b[43m(\u001b[49m\u001b[38;5;124;43m'''\u001b[39;49m\u001b[38;5;124;43mUPDATE foodapp.order_database SET orderstatus = done WHERE(SELECT * FROM foodapp.order_database WHERE orderid = \u001b[39;49m\u001b[38;5;124;43m'\u001b[39;49m\u001b[38;5;124;43m1200dhsa-fsdkjhf\u001b[39;49m\u001b[38;5;124;43m'\u001b[39;49m\u001b[38;5;124;43m) \u001b[39;49m\u001b[38;5;124;43m'''\u001b[39;49m\u001b[43m)\u001b[49m\n",
      "File \u001b[1;32m~\\anaconda3\\envs\\restapi\\lib\\site-packages\\mysql\\connector\\cursor_cext.py:276\u001b[0m, in \u001b[0;36mCMySQLCursor.execute\u001b[1;34m(self, operation, params, multi)\u001b[0m\n\u001b[0;32m    271\u001b[0m             \u001b[38;5;28;01mraise\u001b[39;00m ProgrammingError(\n\u001b[0;32m    272\u001b[0m                 \u001b[38;5;124m\"\u001b[39m\u001b[38;5;124mNot all parameters were used in the SQL statement\u001b[39m\u001b[38;5;124m\"\u001b[39m\n\u001b[0;32m    273\u001b[0m             )\n\u001b[0;32m    275\u001b[0m \u001b[38;5;28;01mtry\u001b[39;00m:\n\u001b[1;32m--> 276\u001b[0m     result \u001b[38;5;241m=\u001b[39m \u001b[38;5;28;43mself\u001b[39;49m\u001b[38;5;241;43m.\u001b[39;49m\u001b[43m_cnx\u001b[49m\u001b[38;5;241;43m.\u001b[39;49m\u001b[43mcmd_query\u001b[49m\u001b[43m(\u001b[49m\n\u001b[0;32m    277\u001b[0m \u001b[43m        \u001b[49m\u001b[43mstmt\u001b[49m\u001b[43m,\u001b[49m\n\u001b[0;32m    278\u001b[0m \u001b[43m        \u001b[49m\u001b[43mraw\u001b[49m\u001b[38;5;241;43m=\u001b[39;49m\u001b[38;5;28;43mself\u001b[39;49m\u001b[38;5;241;43m.\u001b[39;49m\u001b[43m_raw\u001b[49m\u001b[43m,\u001b[49m\n\u001b[0;32m    279\u001b[0m \u001b[43m        \u001b[49m\u001b[43mbuffered\u001b[49m\u001b[38;5;241;43m=\u001b[39;49m\u001b[38;5;28;43mself\u001b[39;49m\u001b[38;5;241;43m.\u001b[39;49m\u001b[43m_buffered\u001b[49m\u001b[43m,\u001b[49m\n\u001b[0;32m    280\u001b[0m \u001b[43m        \u001b[49m\u001b[43mraw_as_string\u001b[49m\u001b[38;5;241;43m=\u001b[39;49m\u001b[38;5;28;43mself\u001b[39;49m\u001b[38;5;241;43m.\u001b[39;49m\u001b[43m_raw_as_string\u001b[49m\u001b[43m,\u001b[49m\n\u001b[0;32m    281\u001b[0m \u001b[43m    \u001b[49m\u001b[43m)\u001b[49m\n\u001b[0;32m    282\u001b[0m \u001b[38;5;28;01mexcept\u001b[39;00m MySQLInterfaceError \u001b[38;5;28;01mas\u001b[39;00m err:\n\u001b[0;32m    283\u001b[0m     \u001b[38;5;28;01mraise\u001b[39;00m get_mysql_exception(\n\u001b[0;32m    284\u001b[0m         msg\u001b[38;5;241m=\u001b[39merr\u001b[38;5;241m.\u001b[39mmsg, errno\u001b[38;5;241m=\u001b[39merr\u001b[38;5;241m.\u001b[39merrno, sqlstate\u001b[38;5;241m=\u001b[39merr\u001b[38;5;241m.\u001b[39msqlstate\n\u001b[0;32m    285\u001b[0m     ) \u001b[38;5;28;01mfrom\u001b[39;00m \u001b[38;5;21;01merr\u001b[39;00m\n",
      "File \u001b[1;32m~\\anaconda3\\envs\\restapi\\lib\\site-packages\\mysql\\connector\\connection_cext.py:563\u001b[0m, in \u001b[0;36mCMySQLConnection.cmd_query\u001b[1;34m(self, query, raw, buffered, raw_as_string)\u001b[0m\n\u001b[0;32m    555\u001b[0m     \u001b[38;5;28mself\u001b[39m\u001b[38;5;241m.\u001b[39m_cmysql\u001b[38;5;241m.\u001b[39mquery(\n\u001b[0;32m    556\u001b[0m         query,\n\u001b[0;32m    557\u001b[0m         raw\u001b[38;5;241m=\u001b[39mraw,\n\u001b[1;32m   (...)\u001b[0m\n\u001b[0;32m    560\u001b[0m         query_attrs\u001b[38;5;241m=\u001b[39m\u001b[38;5;28mself\u001b[39m\u001b[38;5;241m.\u001b[39m_query_attrs,\n\u001b[0;32m    561\u001b[0m     )\n\u001b[0;32m    562\u001b[0m \u001b[38;5;28;01mexcept\u001b[39;00m MySQLInterfaceError \u001b[38;5;28;01mas\u001b[39;00m err:\n\u001b[1;32m--> 563\u001b[0m     \u001b[38;5;28;01mraise\u001b[39;00m get_mysql_exception(\n\u001b[0;32m    564\u001b[0m         err\u001b[38;5;241m.\u001b[39merrno, msg\u001b[38;5;241m=\u001b[39merr\u001b[38;5;241m.\u001b[39mmsg, sqlstate\u001b[38;5;241m=\u001b[39merr\u001b[38;5;241m.\u001b[39msqlstate\n\u001b[0;32m    565\u001b[0m     ) \u001b[38;5;28;01mfrom\u001b[39;00m \u001b[38;5;21;01merr\u001b[39;00m\n\u001b[0;32m    566\u001b[0m \u001b[38;5;28;01mexcept\u001b[39;00m \u001b[38;5;167;01mAttributeError\u001b[39;00m \u001b[38;5;28;01mas\u001b[39;00m err:\n\u001b[0;32m    567\u001b[0m     addr \u001b[38;5;241m=\u001b[39m (\n\u001b[0;32m    568\u001b[0m         \u001b[38;5;28mself\u001b[39m\u001b[38;5;241m.\u001b[39m_unix_socket \u001b[38;5;28;01mif\u001b[39;00m \u001b[38;5;28mself\u001b[39m\u001b[38;5;241m.\u001b[39m_unix_socket \u001b[38;5;28;01melse\u001b[39;00m \u001b[38;5;124mf\u001b[39m\u001b[38;5;124m\"\u001b[39m\u001b[38;5;132;01m{\u001b[39;00m\u001b[38;5;28mself\u001b[39m\u001b[38;5;241m.\u001b[39m_host\u001b[38;5;132;01m}\u001b[39;00m\u001b[38;5;124m:\u001b[39m\u001b[38;5;132;01m{\u001b[39;00m\u001b[38;5;28mself\u001b[39m\u001b[38;5;241m.\u001b[39m_port\u001b[38;5;132;01m}\u001b[39;00m\u001b[38;5;124m\"\u001b[39m\n\u001b[0;32m    569\u001b[0m     )\n",
      "\u001b[1;31mDataError\u001b[0m: 1241 (21000): Operand should contain 1 column(s)"
     ]
    }
   ],
   "source": [
    "cur.execute('''UPDATE foodapp.order_database SET orderstatus = done WHERE(SELECT * FROM foodapp.order_database WHERE orderid = '1200dhsa-fsdkjhf') ''')\n",
    "\n"
   ]
  },
  {
   "cell_type": "code",
   "execution_count": null,
   "id": "ca1a307d",
   "metadata": {},
   "outputs": [],
   "source": []
  }
 ],
 "metadata": {
  "kernelspec": {
   "display_name": "Python 3 (ipykernel)",
   "language": "python",
   "name": "python3"
  },
  "language_info": {
   "codemirror_mode": {
    "name": "ipython",
    "version": 3
   },
   "file_extension": ".py",
   "mimetype": "text/x-python",
   "name": "python",
   "nbconvert_exporter": "python",
   "pygments_lexer": "ipython3",
   "version": "3.8.13"
  }
 },
 "nbformat": 4,
 "nbformat_minor": 5
}
